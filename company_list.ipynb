{
 "cells": [
  {
   "cell_type": "markdown",
   "metadata": {},
   "source": [
    "# Scrape the company name, link and website"
   ]
  },
  {
   "cell_type": "code",
   "execution_count": 1,
   "metadata": {
    "collapsed": true
   },
   "outputs": [],
   "source": [
    "from bs4 import BeautifulSoup\n",
    "import pandas as pd\n",
    "import requests\n",
    "import urllib2\n",
    "import os,csv"
   ]
  },
  {
   "cell_type": "code",
   "execution_count": 2,
   "metadata": {
    "collapsed": true
   },
   "outputs": [],
   "source": [
    "html = urllib2.urlopen('https://www.ic.gc.ca/app/ccc/sld/cmpny.do?profileId=201&naics=3254&lang=eng')"
   ]
  },
  {
   "cell_type": "code",
   "execution_count": 3,
   "metadata": {
    "collapsed": true
   },
   "outputs": [],
   "source": [
    "soup = BeautifulSoup(html,'html.parser')"
   ]
  },
  {
   "cell_type": "code",
   "execution_count": 4,
   "metadata": {},
   "outputs": [
    {
     "name": "stdout",
     "output_type": "stream",
     "text": [
      "<!DOCTYPE html>\n",
      "<!--[if lt IE 9]><html class=\"no-js lt-ie9\" lang=\"en\" dir=\"ltr\"><![endif]-->\n",
      "<!--[if gt IE 8]><!-->\n",
      "<html class=\"no-js\" dir=\"ltr\" lang=\"en\">\n",
      " <!--<![endif]-->\n",
      " <!-- Usage: /eic/site/cc\n"
     ]
    }
   ],
   "source": [
    "print(soup.prettify())[0:200]"
   ]
  },
  {
   "cell_type": "code",
   "execution_count": 5,
   "metadata": {},
   "outputs": [],
   "source": [
    "a =[]\n",
    "for link in soup.find_all('a',class_='small'):\n",
    "    a.append(link['href'].encode('utf-8'))"
   ]
  },
  {
   "cell_type": "code",
   "execution_count": 6,
   "metadata": {},
   "outputs": [
    {
     "data": {
      "text/plain": [
       "166"
      ]
     },
     "execution_count": 6,
     "metadata": {},
     "output_type": "execute_result"
    }
   ],
   "source": [
    "len(a)"
   ]
  },
  {
   "cell_type": "code",
   "execution_count": 7,
   "metadata": {},
   "outputs": [],
   "source": [
    "b=[]\n",
    "for li in soup.find_all(class_=\"mrgn-bttm-sm\"):\n",
    "    b.append(li.a.get('href'))"
   ]
  },
  {
   "cell_type": "code",
   "execution_count": 8,
   "metadata": {},
   "outputs": [
    {
     "data": {
      "text/plain": [
       "170"
      ]
     },
     "execution_count": 8,
     "metadata": {},
     "output_type": "execute_result"
    }
   ],
   "source": [
    "len(b)"
   ]
  },
  {
   "cell_type": "code",
   "execution_count": 9,
   "metadata": {},
   "outputs": [],
   "source": [
    "c =[]\n",
    "for li in soup.find_all(class_=\"mrgn-bttm-sm\"):\n",
    "    c.append(li.a.get_text())"
   ]
  },
  {
   "cell_type": "code",
   "execution_count": 10,
   "metadata": {},
   "outputs": [
    {
     "data": {
      "text/plain": [
       "170"
      ]
     },
     "execution_count": 10,
     "metadata": {},
     "output_type": "execute_result"
    }
   ],
   "source": [
    "len(c)"
   ]
  },
  {
   "cell_type": "code",
   "execution_count": 11,
   "metadata": {
    "collapsed": true
   },
   "outputs": [],
   "source": [
    "exp1 = soup.find_all(class_=\"mrgn-bttm-sm\")"
   ]
  },
  {
   "cell_type": "code",
   "execution_count": 12,
   "metadata": {
    "collapsed": true,
    "scrolled": false
   },
   "outputs": [],
   "source": [
    "a=[]\n",
    "b=[]\n",
    "c=[]\n",
    "for li in soup.find_all(class_=\"mrgn-bttm-sm\"):\n",
    "    a.append(li.a.get_text().encode('utf-8'))    \n",
    "    b.append(\"https://www.ic.gc.ca/\"+li.a.get('href'))\n",
    "    if len(li.find_all('a'))==2:\n",
    "        c.append(li.find_all('a')[1]['href'].encode('utf-8'))\n",
    "    else:\n",
    "        c.append('')"
   ]
  },
  {
   "cell_type": "code",
   "execution_count": 13,
   "metadata": {},
   "outputs": [],
   "source": [
    "#for i in range(0,len(c)):\n",
    "     #print a[i] + \"\\nlink :\\n\\t\"+ b[i]+\"\\n website : \\n\\t\" + c[i]"
   ]
  },
  {
   "cell_type": "code",
   "execution_count": 14,
   "metadata": {},
   "outputs": [],
   "source": [
    "list_of_lists = [a,b,c]\n",
    "#list_of_lists\n",
    "dict_1 = {z[0]:list(z[1:]) for z in zip(*list_of_lists)}\n",
    "#dict_1"
   ]
  },
  {
   "cell_type": "code",
   "execution_count": 15,
   "metadata": {},
   "outputs": [
    {
     "data": {
      "text/html": [
       "<div>\n",
       "<style>\n",
       "    .dataframe thead tr:only-child th {\n",
       "        text-align: right;\n",
       "    }\n",
       "\n",
       "    .dataframe thead th {\n",
       "        text-align: left;\n",
       "    }\n",
       "\n",
       "    .dataframe tbody tr th {\n",
       "        vertical-align: top;\n",
       "    }\n",
       "</style>\n",
       "<table border=\"1\" class=\"dataframe\">\n",
       "  <thead>\n",
       "    <tr style=\"text-align: right;\">\n",
       "      <th></th>\n",
       "      <th>Link</th>\n",
       "      <th>Web</th>\n",
       "    </tr>\n",
       "    <tr>\n",
       "      <th>Name</th>\n",
       "      <th></th>\n",
       "      <th></th>\n",
       "    </tr>\n",
       "  </thead>\n",
       "  <tbody>\n",
       "    <tr>\n",
       "      <th>ACIC</th>\n",
       "      <td>https://www.ic.gc.ca//app/ccc/srch/nvgt.do;jse...</td>\n",
       "      <td>http://www.acic.com</td>\n",
       "    </tr>\n",
       "    <tr>\n",
       "      <th>Abbott Laboratories Ltd.</th>\n",
       "      <td>https://www.ic.gc.ca//app/ccc/srch/nvgt.do;jse...</td>\n",
       "      <td>http://www.abbott.ca/</td>\n",
       "    </tr>\n",
       "    <tr>\n",
       "      <th>Accucaps Industries Limited</th>\n",
       "      <td>https://www.ic.gc.ca//app/ccc/srch/nvgt.do;jse...</td>\n",
       "      <td>http://www.accucaps.com</td>\n",
       "    </tr>\n",
       "    <tr>\n",
       "      <th>Actavis Pharma Company</th>\n",
       "      <td>https://www.ic.gc.ca//app/ccc/srch/nvgt.do;jse...</td>\n",
       "      <td>http://www.actavis.com</td>\n",
       "    </tr>\n",
       "    <tr>\n",
       "      <th>Advanced Labs Canada</th>\n",
       "      <td>https://www.ic.gc.ca//app/ccc/srch/nvgt.do;jse...</td>\n",
       "      <td>http://www.rebootvision.com</td>\n",
       "    </tr>\n",
       "  </tbody>\n",
       "</table>\n",
       "</div>"
      ],
      "text/plain": [
       "                                                                          Link  \\\n",
       "Name                                                                             \n",
       "ACIC                         https://www.ic.gc.ca//app/ccc/srch/nvgt.do;jse...   \n",
       "Abbott Laboratories Ltd.     https://www.ic.gc.ca//app/ccc/srch/nvgt.do;jse...   \n",
       "Accucaps Industries Limited  https://www.ic.gc.ca//app/ccc/srch/nvgt.do;jse...   \n",
       "Actavis Pharma Company       https://www.ic.gc.ca//app/ccc/srch/nvgt.do;jse...   \n",
       "Advanced Labs Canada         https://www.ic.gc.ca//app/ccc/srch/nvgt.do;jse...   \n",
       "\n",
       "                                                     Web  \n",
       "Name                                                      \n",
       "ACIC                                 http://www.acic.com  \n",
       "Abbott Laboratories Ltd.           http://www.abbott.ca/  \n",
       "Accucaps Industries Limited      http://www.accucaps.com  \n",
       "Actavis Pharma Company            http://www.actavis.com  \n",
       "Advanced Labs Canada         http://www.rebootvision.com  "
      ]
     },
     "execution_count": 15,
     "metadata": {},
     "output_type": "execute_result"
    }
   ],
   "source": [
    "df = pd.DataFrame(dict_1).T\n",
    "df.index.names = ['Name']\n",
    "df.columns = ['Link','Web']\n",
    "df.to_csv('canada_data.csv')\n",
    "df.head()"
   ]
  },
  {
   "cell_type": "code",
   "execution_count": 16,
   "metadata": {
    "collapsed": true
   },
   "outputs": [],
   "source": [
    "# with open('test.csv', 'wb') as file:\n",
    "#     FIELDNAMES = 'name web link'.split()\n",
    "#     writer = csv.DictWriter(file, delimiter='\\t', fieldnames=FIELDNAMES)\n",
    "#     writer.writeheader()\n",
    "#     for key, value in dict_1.items():\n",
    "#         writer.writerow([key, value])\n",
    "#     #writer.writerows(dict(zip(FIELDNAMES, row))\n",
    "#                          #for row in zip(*(dict_1[key] for key in FIELDNAMES)))"
   ]
  },
  {
   "cell_type": "code",
   "execution_count": 17,
   "metadata": {
    "collapsed": true
   },
   "outputs": [],
   "source": [
    "# field_names = [\"Name\",'link','website']\n",
    "# with open(\"output.csv\", \"w\") as f:\n",
    "#     writer = csv.DictWriter(f,field_names,extrasaction='ignore', dialect='excel')\n",
    "#     #data = {key: value for key, value in dict_1.items()}\n",
    "#     #writer.writerow(data)\n",
    "#     writer.writerow({x: x for x in field_names})\n",
    "#     for value in dict_1.items():\n",
    "#         writer.writerow(value)"
   ]
  },
  {
   "cell_type": "code",
   "execution_count": 18,
   "metadata": {
    "collapsed": true
   },
   "outputs": [],
   "source": [
    "# write to json\n",
    "# import json\n",
    "# with open(\"canada.json\", \"w\") as writeJSON:\n",
    "#     json.dump(dict_1, writeJSON)"
   ]
  },
  {
   "cell_type": "code",
   "execution_count": 19,
   "metadata": {
    "collapsed": true
   },
   "outputs": [],
   "source": [
    "# count = 0\n",
    "# for i in range(0,len(exp)):\n",
    "#     print li.a.get_text()\n",
    "#     print \"https://www.ic.gc.ca/\"+li.a.get('href')\n",
    "#     count = count+1\n",
    "#     if count < (len(b)-1):\n",
    "#         print li.find_all('a')[1]['href']\n",
    "#     else:\n",
    "#         pass\n",
    "\n",
    "\n",
    "# for i in range(0,5): #len(exp)\n",
    "#     temp = exp[i].find_all('a')[0]['href']\n",
    "#     print(temp)\n",
    "#     temp1 = \n",
    "#     hari.append(temp)\n",
    "# len(hari) "
   ]
  }
 ],
 "metadata": {
  "kernelspec": {
   "display_name": "Python 2",
   "language": "python",
   "name": "python2"
  },
  "language_info": {
   "codemirror_mode": {
    "name": "ipython",
    "version": 2
   },
   "file_extension": ".py",
   "mimetype": "text/x-python",
   "name": "python",
   "nbconvert_exporter": "python",
   "pygments_lexer": "ipython2",
   "version": "2.7.14"
  }
 },
 "nbformat": 4,
 "nbformat_minor": 2
}
