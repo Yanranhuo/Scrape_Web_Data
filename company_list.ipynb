{
 "cells": [
  {
   "cell_type": "code",
   "execution_count": 100,
   "metadata": {
    "collapsed": true
   },
   "outputs": [],
   "source": [
    "from bs4 import BeautifulSoup\n",
    "import pandas as pd\n",
    "import requests\n",
    "import urllib2\n",
    "import os,csv"
   ]
  },
  {
   "cell_type": "code",
   "execution_count": 101,
   "metadata": {
    "collapsed": true
   },
   "outputs": [],
   "source": [
    "html = urllib2.urlopen('https://www.ic.gc.ca/app/ccc/sld/cmpny.do?profileId=201&naics=3254&lang=eng')"
   ]
  },
  {
   "cell_type": "code",
   "execution_count": 102,
   "metadata": {
    "collapsed": true
   },
   "outputs": [],
   "source": [
    "soup = BeautifulSoup(html,'html.parser')"
   ]
  },
  {
   "cell_type": "code",
   "execution_count": 161,
   "metadata": {},
   "outputs": [
    {
     "name": "stdout",
     "output_type": "stream",
     "text": [
      "<!DOCTYPE html>\n",
      "<!--[if lt IE 9]><html class=\"no-js lt-ie9\" lang=\"en\" dir=\"ltr\"><![endif]-->\n",
      "<!--[if gt IE 8]><!-->\n",
      "<html class=\"no-js\" dir=\"ltr\" lang=\"en\">\n",
      " <!--<![endif]-->\n",
      " <!-- Usage: /eic/site/cc\n"
     ]
    }
   ],
   "source": [
    "print(soup.prettify())[0:200]"
   ]
  },
  {
   "cell_type": "code",
   "execution_count": 157,
   "metadata": {},
   "outputs": [
    {
     "data": {
      "text/plain": [
       "['http://www.abbott.ca/',\n",
       " 'http://www.accucaps.com',\n",
       " 'http://www.acic.com',\n",
       " 'http://www.actavis.com',\n",
       " 'http://www.rebootvision.com']"
      ]
     },
     "execution_count": 157,
     "metadata": {},
     "output_type": "execute_result"
    }
   ],
   "source": [
    "b =[]\n",
    "for link in soup.find_all('a',class_='small'):\n",
    "    b.append(link['href'].encode('utf-8'))\n",
    "b[0:5]"
   ]
  },
  {
   "cell_type": "code",
   "execution_count": 105,
   "metadata": {},
   "outputs": [
    {
     "data": {
      "text/plain": [
       "166"
      ]
     },
     "execution_count": 105,
     "metadata": {},
     "output_type": "execute_result"
    }
   ],
   "source": [
    "len(b)"
   ]
  },
  {
   "cell_type": "code",
   "execution_count": 159,
   "metadata": {},
   "outputs": [
    {
     "data": {
      "text/plain": [
       "[u'/app/ccc/srch/nvgt.do;jsessionid=00013ZV-zVerqRp0ZqBftKfTYDW:8DAUEND69?lang=eng&prtl=1&sbPrtl=&estblmntNo=123456139644&profile=cmpltPrfl&profileId=201&app=sold&searchNav=F',\n",
       " u'/app/ccc/srch/nvgt.do;jsessionid=00013ZV-zVerqRp0ZqBftKfTYDW:8DAUEND69?lang=eng&prtl=1&sbPrtl=&estblmntNo=123456004100&profile=cmpltPrfl&profileId=201&app=sold&searchNav=F',\n",
       " u'/app/ccc/srch/nvgt.do;jsessionid=00013ZV-zVerqRp0ZqBftKfTYDW:8DAUEND69?lang=eng&prtl=1&sbPrtl=&estblmntNo=123456246311&profile=cmpltPrfl&profileId=201&app=sold&searchNav=F',\n",
       " u'/app/ccc/srch/nvgt.do;jsessionid=00013ZV-zVerqRp0ZqBftKfTYDW:8DAUEND69?lang=eng&prtl=1&sbPrtl=&estblmntNo=234567053971&profile=cmpltPrfl&profileId=201&app=sold&searchNav=F',\n",
       " u'/app/ccc/srch/nvgt.do;jsessionid=00013ZV-zVerqRp0ZqBftKfTYDW:8DAUEND69?lang=eng&prtl=1&sbPrtl=&estblmntNo=234567167190&profile=cmpltPrfl&profileId=201&app=sold&searchNav=F']"
      ]
     },
     "execution_count": 159,
     "metadata": {},
     "output_type": "execute_result"
    }
   ],
   "source": [
    "a=[]\n",
    "for li in soup.find_all(class_=\"mrgn-bttm-sm\"):\n",
    "    a.append(li.a.get('href'))\n",
    "a[0:5]"
   ]
  },
  {
   "cell_type": "code",
   "execution_count": 160,
   "metadata": {},
   "outputs": [
    {
     "data": {
      "text/plain": [
       "170"
      ]
     },
     "execution_count": 160,
     "metadata": {},
     "output_type": "execute_result"
    }
   ],
   "source": [
    "len(a)"
   ]
  },
  {
   "cell_type": "code",
   "execution_count": 162,
   "metadata": {},
   "outputs": [
    {
     "data": {
      "text/plain": [
       "[u'Abbott Laboratories Ltd.',\n",
       " u'Accucaps Industries Limited',\n",
       " u'ACIC',\n",
       " u'Actavis Pharma Company',\n",
       " u'Advanced Labs Canada']"
      ]
     },
     "execution_count": 162,
     "metadata": {},
     "output_type": "execute_result"
    }
   ],
   "source": [
    "c =[]\n",
    "for li in soup.find_all(class_=\"mrgn-bttm-sm\"):\n",
    "    c.append(li.a.get_text())\n",
    "c[0:5]"
   ]
  },
  {
   "cell_type": "code",
   "execution_count": 109,
   "metadata": {},
   "outputs": [
    {
     "data": {
      "text/plain": [
       "170"
      ]
     },
     "execution_count": 109,
     "metadata": {},
     "output_type": "execute_result"
    }
   ],
   "source": [
    "len(c)"
   ]
  },
  {
   "cell_type": "code",
   "execution_count": 110,
   "metadata": {
    "collapsed": true
   },
   "outputs": [],
   "source": [
    "exp1 = soup.find_all(class_=\"mrgn-bttm-sm\")"
   ]
  },
  {
   "cell_type": "code",
   "execution_count": 111,
   "metadata": {
    "collapsed": true,
    "scrolled": false
   },
   "outputs": [],
   "source": [
    "a=[]\n",
    "b=[]\n",
    "c=[]\n",
    "for li in soup.find_all(class_=\"mrgn-bttm-sm\"):\n",
    "    a.append(li.a.get_text().encode('utf-8'))    \n",
    "    b.append(\"https://www.ic.gc.ca/\"+li.a.get('href'))\n",
    "    if len(li.find_all('a'))==2:\n",
    "        c.append(li.find_all('a')[1]['href'].encode('utf-8'))\n",
    "    else:\n",
    "        c.append('')"
   ]
  },
  {
   "cell_type": "code",
   "execution_count": 112,
   "metadata": {},
   "outputs": [
    {
     "name": "stdout",
     "output_type": "stream",
     "text": [
      "Abbott Laboratories Ltd.\n",
      "link :\n",
      "\thttps://www.ic.gc.ca//app/ccc/srch/nvgt.do;jsessionid=00013ZV-zVerqRp0ZqBftKfTYDW:8DAUEND69?lang=eng&prtl=1&sbPrtl=&estblmntNo=123456139644&profile=cmpltPrfl&profileId=201&app=sold&searchNav=F\n",
      " website : \n",
      "\thttp://www.abbott.ca/\n",
      "Accucaps Industries Limited\n",
      "link :\n",
      "\thttps://www.ic.gc.ca//app/ccc/srch/nvgt.do;jsessionid=00013ZV-zVerqRp0ZqBftKfTYDW:8DAUEND69?lang=eng&prtl=1&sbPrtl=&estblmntNo=123456004100&profile=cmpltPrfl&profileId=201&app=sold&searchNav=F\n",
      " website : \n",
      "\thttp://www.accucaps.com\n",
      "ACIC\n",
      "link :\n",
      "\thttps://www.ic.gc.ca//app/ccc/srch/nvgt.do;jsessionid=00013ZV-zVerqRp0ZqBftKfTYDW:8DAUEND69?lang=eng&prtl=1&sbPrtl=&estblmntNo=123456246311&profile=cmpltPrfl&profileId=201&app=sold&searchNav=F\n",
      " website : \n",
      "\thttp://www.acic.com\n",
      "Actavis Pharma Company\n",
      "link :\n",
      "\thttps://www.ic.gc.ca//app/ccc/srch/nvgt.do;jsessionid=00013ZV-zVerqRp0ZqBftKfTYDW:8DAUEND69?lang=eng&prtl=1&sbPrtl=&estblmntNo=234567053971&profile=cmpltPrfl&profileId=201&app=sold&searchNav=F\n",
      " website : \n",
      "\thttp://www.actavis.com\n",
      "Advanced Labs Canada\n",
      "link :\n",
      "\thttps://www.ic.gc.ca//app/ccc/srch/nvgt.do;jsessionid=00013ZV-zVerqRp0ZqBftKfTYDW:8DAUEND69?lang=eng&prtl=1&sbPrtl=&estblmntNo=234567167190&profile=cmpltPrfl&profileId=201&app=sold&searchNav=F\n",
      " website : \n",
      "\thttp://www.rebootvision.com\n",
      "Afinity Life Sciences Inc.\n",
      "link :\n",
      "\thttps://www.ic.gc.ca//app/ccc/srch/nvgt.do;jsessionid=00013ZV-zVerqRp0ZqBftKfTYDW:8DAUEND69?lang=eng&prtl=1&sbPrtl=&estblmntNo=234567149516&profile=cmpltPrfl&profileId=201&app=sold&searchNav=F\n",
      " website : \n",
      "\thttp://www.afinity.ca\n",
      "Allergan Inc.\n",
      "link :\n",
      "\thttps://www.ic.gc.ca//app/ccc/srch/nvgt.do;jsessionid=00013ZV-zVerqRp0ZqBftKfTYDW:8DAUEND69?lang=eng&prtl=1&sbPrtl=&estblmntNo=123456227946&profile=cmpltPrfl&profileId=201&app=sold&searchNav=F\n",
      " website : \n",
      "\thttp://www.allergan.ca\n",
      "Apotex Fermentation Inc.\n",
      "link :\n",
      "\thttps://www.ic.gc.ca//app/ccc/srch/nvgt.do;jsessionid=00013ZV-zVerqRp0ZqBftKfTYDW:8DAUEND69?lang=eng&prtl=1&sbPrtl=&estblmntNo=123456036252&profile=cmpltPrfl&profileId=201&app=sold&searchNav=F\n",
      " website : \n",
      "\thttp://www.apoferm.mb.ca\n",
      "Apotex Inc.\n",
      "link :\n",
      "\thttps://www.ic.gc.ca//app/ccc/srch/nvgt.do;jsessionid=00013ZV-zVerqRp0ZqBftKfTYDW:8DAUEND69?lang=eng&prtl=1&sbPrtl=&estblmntNo=302534130000&profile=cmpltPrfl&profileId=201&app=sold&searchNav=F\n",
      " website : \n",
      "\thttp://www.apotex.com\n",
      "Apotex Pharmachem Inc.\n",
      "link :\n",
      "\thttps://www.ic.gc.ca//app/ccc/srch/nvgt.do;jsessionid=00013ZV-zVerqRp0ZqBftKfTYDW:8DAUEND69?lang=eng&prtl=1&sbPrtl=&estblmntNo=901213510000&profile=cmpltPrfl&profileId=201&app=sold&searchNav=F\n",
      " website : \n",
      "\thttp://www.apotexpharmachem.com\n",
      "Arbutus Biopharma\n",
      "link :\n",
      "\thttps://www.ic.gc.ca//app/ccc/srch/nvgt.do;jsessionid=00013ZV-zVerqRp0ZqBftKfTYDW:8DAUEND69?lang=eng&prtl=1&sbPrtl=&estblmntNo=123456161461&profile=cmpltPrfl&profileId=201&app=sold&searchNav=F\n",
      " website : \n",
      "\thttp://www.arbutusbio.com\n",
      "Aroma Borealis Herb Shop\n",
      "link :\n",
      "\thttps://www.ic.gc.ca//app/ccc/srch/nvgt.do;jsessionid=00013ZV-zVerqRp0ZqBftKfTYDW:8DAUEND69?lang=eng&prtl=1&sbPrtl=&estblmntNo=234567089598&profile=cmpltPrfl&profileId=201&app=sold&searchNav=F\n",
      " website : \n",
      "\thttp://www.aromaborealis.com\n",
      "Artron BioResearch Inc.\n",
      "link :\n",
      "\thttps://www.ic.gc.ca//app/ccc/srch/nvgt.do;jsessionid=00013ZV-zVerqRp0ZqBftKfTYDW:8DAUEND69?lang=eng&prtl=1&sbPrtl=&estblmntNo=234567089802&profile=cmpltPrfl&profileId=201&app=sold&searchNav=F\n",
      " website : \n",
      "\thttp://www.artronbio.com\n",
      "Atlas ImpEx\n",
      "link :\n",
      "\thttps://www.ic.gc.ca//app/ccc/srch/nvgt.do;jsessionid=00013ZV-zVerqRp0ZqBftKfTYDW:8DAUEND69?lang=eng&prtl=1&sbPrtl=&estblmntNo=234567058139&profile=cmpltPrfl&profileId=201&app=sold&searchNav=F\n",
      " website : \n",
      "\thttp://www.atlasimpex.ca\n",
      "Atrium Innovations Inc.\n",
      "link :\n",
      "\thttps://www.ic.gc.ca//app/ccc/srch/nvgt.do;jsessionid=00013ZV-zVerqRp0ZqBftKfTYDW:8DAUEND69?lang=eng&prtl=1&sbPrtl=&estblmntNo=234567012814&profile=cmpltPrfl&profileId=201&app=sold&searchNav=F\n",
      " website : \n",
      "\thttp://www.atrium-innovations.com\n",
      "Aurium Pharma Inc.\n",
      "link :\n",
      "\thttps://www.ic.gc.ca//app/ccc/srch/nvgt.do;jsessionid=00013ZV-zVerqRp0ZqBftKfTYDW:8DAUEND69?lang=eng&prtl=1&sbPrtl=&estblmntNo=123456222063&profile=cmpltPrfl&profileId=201&app=sold&searchNav=F\n",
      " website : \n",
      "\thttp://www.aurium.ca\n",
      "Avive Naturals\n",
      "link :\n",
      "\thttps://www.ic.gc.ca//app/ccc/srch/nvgt.do;jsessionid=00013ZV-zVerqRp0ZqBftKfTYDW:8DAUEND69?lang=eng&prtl=1&sbPrtl=&estblmntNo=234567146913&profile=cmpltPrfl&profileId=201&app=sold&searchNav=F\n",
      " website : \n",
      "\thttp://www.avive.ca\n",
      "Bassett & Walker International, Inc. (BWI)\n",
      "link :\n",
      "\thttps://www.ic.gc.ca//app/ccc/srch/nvgt.do;jsessionid=00013ZV-zVerqRp0ZqBftKfTYDW:8DAUEND69?lang=eng&prtl=1&sbPrtl=&estblmntNo=234567069531&profile=cmpltPrfl&profileId=201&app=sold&searchNav=F\n",
      " website : \n",
      "\thttp://www.bassettwalkerinc.com\n",
      "Baxter Corporation\n",
      "link :\n",
      "\thttps://www.ic.gc.ca//app/ccc/srch/nvgt.do;jsessionid=00013ZV-zVerqRp0ZqBftKfTYDW:8DAUEND69?lang=eng&prtl=1&sbPrtl=&estblmntNo=100485360000&profile=cmpltPrfl&profileId=201&app=sold&searchNav=F\n",
      " website : \n",
      "\thttp://www.baxter.ca\n",
      "BELLUS Health Inc\n",
      "link :\n",
      "\thttps://www.ic.gc.ca//app/ccc/srch/nvgt.do;jsessionid=00013ZV-zVerqRp0ZqBftKfTYDW:8DAUEND69?lang=eng&prtl=1&sbPrtl=&estblmntNo=123456220679&profile=cmpltPrfl&profileId=201&app=sold&searchNav=F\n",
      " website : \n",
      "\thttp://www.bellushealth.com\n",
      "Bill Beauty & Health Product Ltd.\n",
      "link :\n",
      "\thttps://www.ic.gc.ca//app/ccc/srch/nvgt.do;jsessionid=00013ZV-zVerqRp0ZqBftKfTYDW:8DAUEND69?lang=eng&prtl=1&sbPrtl=&estblmntNo=234567102170&profile=cmpltPrfl&profileId=201&app=sold&searchNav=F\n",
      " website : \n",
      "\thttp://www.billbeauty.com\n",
      "Bimeda - MTC Animal Health Inc.\n",
      "link :\n",
      "\thttps://www.ic.gc.ca//app/ccc/srch/nvgt.do;jsessionid=00013ZV-zVerqRp0ZqBftKfTYDW:8DAUEND69?lang=eng&prtl=1&sbPrtl=&estblmntNo=901148100000&profile=cmpltPrfl&profileId=201&app=sold&searchNav=F\n",
      " website : \n",
      "\thttp://www.bimeda.com\n",
      "BIOFERMEC INC.\n",
      "link :\n",
      "\thttps://www.ic.gc.ca//app/ccc/srch/nvgt.do;jsessionid=00013ZV-zVerqRp0ZqBftKfTYDW:8DAUEND69?lang=eng&prtl=1&sbPrtl=&estblmntNo=234567096959&profile=cmpltPrfl&profileId=201&app=sold&searchNav=F\n",
      " website : \n",
      "\t\n",
      "Bioforce Canada Inc\n",
      "link :\n",
      "\thttps://www.ic.gc.ca//app/ccc/srch/nvgt.do;jsessionid=00013ZV-zVerqRp0ZqBftKfTYDW:8DAUEND69?lang=eng&prtl=1&sbPrtl=&estblmntNo=234567110604&profile=cmpltPrfl&profileId=201&app=sold&searchNav=F\n",
      " website : \n",
      "\thttp://www.avogel.ca\n",
      "Biogate Laboratories LTD\n",
      "link :\n",
      "\thttps://www.ic.gc.ca//app/ccc/srch/nvgt.do;jsessionid=00013ZV-zVerqRp0ZqBftKfTYDW:8DAUEND69?lang=eng&prtl=1&sbPrtl=&estblmntNo=234567135567&profile=cmpltPrfl&profileId=201&app=sold&searchNav=F\n",
      " website : \n",
      "\thttp://www.biogatelab.com\n",
      "Biolyse Pharma\n",
      "link :\n",
      "\thttps://www.ic.gc.ca//app/ccc/srch/nvgt.do;jsessionid=00013ZV-zVerqRp0ZqBftKfTYDW:8DAUEND69?lang=eng&prtl=1&sbPrtl=&estblmntNo=123456131765&profile=cmpltPrfl&profileId=201&app=sold&searchNav=F\n",
      " website : \n",
      "\thttp://www.biolyse.ca\n",
      "Bio-Media Unlimited Ltd.\n",
      "link :\n",
      "\thttps://www.ic.gc.ca//app/ccc/srch/nvgt.do;jsessionid=00013ZV-zVerqRp0ZqBftKfTYDW:8DAUEND69?lang=eng&prtl=1&sbPrtl=&estblmntNo=123456065580&profile=cmpltPrfl&profileId=201&app=sold&searchNav=F\n",
      " website : \n",
      "\thttp://www.bio-media.ca\n",
      "BioMedica Diagnostics Inc.\n",
      "link :\n",
      "\thttps://www.ic.gc.ca//app/ccc/srch/nvgt.do;jsessionid=00013ZV-zVerqRp0ZqBftKfTYDW:8DAUEND69?lang=eng&prtl=1&sbPrtl=&estblmntNo=123456146195&profile=cmpltPrfl&profileId=201&app=sold&searchNav=F\n",
      " website : \n",
      "\thttp://www.biomedicadiagnostics.com\n",
      "Biopharmaceutical Research Inc.\n",
      "link :\n",
      "\thttps://www.ic.gc.ca//app/ccc/srch/nvgt.do;jsessionid=00013ZV-zVerqRp0ZqBftKfTYDW:8DAUEND69?lang=eng&prtl=1&sbPrtl=&estblmntNo=234567049768&profile=cmpltPrfl&profileId=201&app=sold&searchNav=F\n",
      " website : \n",
      "\thttp://www.bripharm.com/\n",
      "Bioriginal Food & Science Corp.\n",
      "link :\n",
      "\thttps://www.ic.gc.ca//app/ccc/srch/nvgt.do;jsessionid=00013ZV-zVerqRp0ZqBftKfTYDW:8DAUEND69?lang=eng&prtl=1&sbPrtl=&estblmntNo=123456171885&profile=cmpltPrfl&profileId=201&app=sold&searchNav=F\n",
      " website : \n",
      "\thttp://www.bioriginal.com\n",
      "Biosecur Tech Inc\n",
      "link :\n",
      "\thttps://www.ic.gc.ca//app/ccc/srch/nvgt.do;jsessionid=00013ZV-zVerqRp0ZqBftKfTYDW:8DAUEND69?lang=eng&prtl=1&sbPrtl=&estblmntNo=234567064474&profile=cmpltPrfl&profileId=201&app=sold&searchNav=F\n",
      " website : \n",
      "\thttp://www.biosecur.com\n",
      "BioVectra Inc.\n",
      "link :\n",
      "\thttps://www.ic.gc.ca//app/ccc/srch/nvgt.do;jsessionid=00013ZV-zVerqRp0ZqBftKfTYDW:8DAUEND69?lang=eng&prtl=1&sbPrtl=&estblmntNo=234567039410&profile=cmpltPrfl&profileId=201&app=sold&searchNav=F\n",
      " website : \n",
      "\thttp://www.biovectra.com\n",
      "BLES Biochemicals Inc.\n",
      "link :\n",
      "\thttps://www.ic.gc.ca//app/ccc/srch/nvgt.do;jsessionid=00013ZV-zVerqRp0ZqBftKfTYDW:8DAUEND69?lang=eng&prtl=1&sbPrtl=&estblmntNo=123456216271&profile=cmpltPrfl&profileId=201&app=sold&searchNav=F\n",
      " website : \n",
      "\thttp://www.blesbiochem.com\n",
      "Bracco Imaging\n",
      "link :\n",
      "\thttps://www.ic.gc.ca//app/ccc/srch/nvgt.do;jsessionid=00013ZV-zVerqRp0ZqBftKfTYDW:8DAUEND69?lang=eng&prtl=1&sbPrtl=&estblmntNo=220559900000&profile=cmpltPrfl&profileId=201&app=sold&searchNav=F\n",
      " website : \n",
      "\thttp://www.corporate.bracco.com\n",
      "Bristol-Myers Squibb Canada\n",
      "link :\n",
      "\thttps://www.ic.gc.ca//app/ccc/srch/nvgt.do;jsessionid=00013ZV-zVerqRp0ZqBftKfTYDW:8DAUEND69?lang=eng&prtl=1&sbPrtl=&estblmntNo=901142730000&profile=cmpltPrfl&profileId=201&app=sold&searchNav=F\n",
      " website : \n",
      "\thttp://www.bmscanada.ca\n",
      "Burrard Pharmaceuticals Enterprises Ltd.\n",
      "link :\n",
      "\thttps://www.ic.gc.ca//app/ccc/srch/nvgt.do;jsessionid=00013ZV-zVerqRp0ZqBftKfTYDW:8DAUEND69?lang=eng&prtl=1&sbPrtl=&estblmntNo=234567156483&profile=cmpltPrfl&profileId=201&app=sold&searchNav=F\n",
      " website : \n",
      "\thttp://www.burrardpharma.com\n",
      "Cambridge Laboratories\n",
      "link :\n",
      "\thttps://www.ic.gc.ca//app/ccc/srch/nvgt.do;jsessionid=00013ZV-zVerqRp0ZqBftKfTYDW:8DAUEND69?lang=eng&prtl=1&sbPrtl=&estblmntNo=234567154776&profile=cmpltPrfl&profileId=201&app=sold&searchNav=F\n",
      " website : \n",
      "\thttp://www.cambridgelaboratories.ca/\n",
      "Canada Changmin Nutraceutique Co. Ltd\n",
      "link :\n",
      "\thttps://www.ic.gc.ca//app/ccc/srch/nvgt.do;jsessionid=00013ZV-zVerqRp0ZqBftKfTYDW:8DAUEND69?lang=eng&prtl=1&sbPrtl=&estblmntNo=234567059135&profile=cmpltPrfl&profileId=201&app=sold&searchNav=F\n",
      " website : \n",
      "\thttp://www.canadachangmin.com/\n",
      "canadex laboratories inc\n",
      "link :\n",
      "\thttps://www.ic.gc.ca//app/ccc/srch/nvgt.do;jsessionid=00013ZV-zVerqRp0ZqBftKfTYDW:8DAUEND69?lang=eng&prtl=1&sbPrtl=&estblmntNo=234567096469&profile=cmpltPrfl&profileId=201&app=sold&searchNav=F\n",
      " website : \n",
      "\thttp://www.canadexlabs.com\n",
      "CanCap Pharmaceutical Ltd.\n",
      "link :\n",
      "\thttps://www.ic.gc.ca//app/ccc/srch/nvgt.do;jsessionid=00013ZV-zVerqRp0ZqBftKfTYDW:8DAUEND69?lang=eng&prtl=1&sbPrtl=&estblmntNo=234567049855&profile=cmpltPrfl&profileId=201&app=sold&searchNav=F\n",
      " website : \n",
      "\thttp://www.cancappharma.com\n",
      "Can-Vet Animal Health Supplies Ltd.\n",
      "link :\n",
      "\thttps://www.ic.gc.ca//app/ccc/srch/nvgt.do;jsessionid=00013ZV-zVerqRp0ZqBftKfTYDW:8DAUEND69?lang=eng&prtl=1&sbPrtl=&estblmntNo=234567114841&profile=cmpltPrfl&profileId=201&app=sold&searchNav=F\n",
      " website : \n",
      "\thttp://www.canvet.on.ca\n",
      "Cellderm \n",
      "link :\n",
      "\thttps://www.ic.gc.ca//app/ccc/srch/nvgt.do;jsessionid=00013ZV-zVerqRp0ZqBftKfTYDW:8DAUEND69?lang=eng&prtl=1&sbPrtl=&estblmntNo=234567121777&profile=cmpltPrfl&profileId=201&app=sold&searchNav=F\n",
      " website : \n",
      "\thttp://www.cellderm.com\n",
      "Chatham Biotec Ltd\n",
      "link :\n",
      "\thttps://www.ic.gc.ca//app/ccc/srch/nvgt.do;jsessionid=00013ZV-zVerqRp0ZqBftKfTYDW:8DAUEND69?lang=eng&prtl=1&sbPrtl=&estblmntNo=234567116716&profile=cmpltPrfl&profileId=201&app=sold&searchNav=F\n",
      " website : \n",
      "\thttp://www.chathambiotec.com\n",
      "Chewpod\n",
      "link :\n",
      "\thttps://www.ic.gc.ca//app/ccc/srch/nvgt.do;jsessionid=00013ZV-zVerqRp0ZqBftKfTYDW:8DAUEND69?lang=eng&prtl=1&sbPrtl=&estblmntNo=234567165734&profile=cmpltPrfl&profileId=201&app=sold&searchNav=F\n",
      " website : \n",
      "\thttp://chewpod.com\n",
      "CHX Technologies Inc.\n",
      "link :\n",
      "\thttps://www.ic.gc.ca//app/ccc/srch/nvgt.do;jsessionid=00013ZV-zVerqRp0ZqBftKfTYDW:8DAUEND69?lang=eng&prtl=1&sbPrtl=&estblmntNo=123456155179&profile=cmpltPrfl&profileId=201&app=sold&searchNav=F\n",
      " website : \n",
      "\thttp://www.chxtechnologies.com\n",
      "Clarovita Nutrition Inc.\n",
      "link :\n",
      "\thttps://www.ic.gc.ca//app/ccc/srch/nvgt.do;jsessionid=00013ZV-zVerqRp0ZqBftKfTYDW:8DAUEND69?lang=eng&prtl=1&sbPrtl=&estblmntNo=234567168573&profile=cmpltPrfl&profileId=201&app=sold&searchNav=F\n",
      " website : \n",
      "\thttp://www.clarovita.com\n",
      "Clearsynth Canada Inc.\n",
      "link :\n",
      "\thttps://www.ic.gc.ca//app/ccc/srch/nvgt.do;jsessionid=00013ZV-zVerqRp0ZqBftKfTYDW:8DAUEND69?lang=eng&prtl=1&sbPrtl=&estblmntNo=234567161309&profile=cmpltPrfl&profileId=201&app=sold&searchNav=F\n",
      " website : \n",
      "\thttp://www.Clearsynth.com\n",
      "Contract Pharmaceuticals Limited\n",
      "link :\n",
      "\thttps://www.ic.gc.ca//app/ccc/srch/nvgt.do;jsessionid=00013ZV-zVerqRp0ZqBftKfTYDW:8DAUEND69?lang=eng&prtl=1&sbPrtl=&estblmntNo=123456261551&profile=cmpltPrfl&profileId=201&app=sold&searchNav=F\n",
      " website : \n",
      "\thttp://www.cplltd.com\n",
      "Corealis Pharma\n",
      "link :\n",
      "\thttps://www.ic.gc.ca//app/ccc/srch/nvgt.do;jsessionid=00013ZV-zVerqRp0ZqBftKfTYDW:8DAUEND69?lang=eng&prtl=1&sbPrtl=&estblmntNo=234567129797&profile=cmpltPrfl&profileId=201&app=sold&searchNav=F\n",
      " website : \n",
      "\thttp://www.corealispharma.com\n",
      "Covidien Canada ULC\n",
      "link :\n",
      "\thttps://www.ic.gc.ca//app/ccc/srch/nvgt.do;jsessionid=00013ZV-zVerqRp0ZqBftKfTYDW:8DAUEND69?lang=eng&prtl=1&sbPrtl=&estblmntNo=131588370000&profile=cmpltPrfl&profileId=201&app=sold&searchNav=F\n",
      " website : \n",
      "\thttp://www.covidien.com\n",
      "Dako Canada Inc\n",
      "link :\n",
      "\thttps://www.ic.gc.ca//app/ccc/srch/nvgt.do;jsessionid=00013ZV-zVerqRp0ZqBftKfTYDW:8DAUEND69?lang=eng&prtl=1&sbPrtl=&estblmntNo=123456170965&profile=cmpltPrfl&profileId=201&app=sold&searchNav=F\n",
      " website : \n",
      "\thttp://www.dako.com\n",
      "Dalton Pharma Services\n",
      "link :\n",
      "\thttps://www.ic.gc.ca//app/ccc/srch/nvgt.do;jsessionid=00013ZV-zVerqRp0ZqBftKfTYDW:8DAUEND69?lang=eng&prtl=1&sbPrtl=&estblmntNo=123456090347&profile=cmpltPrfl&profileId=201&app=sold&searchNav=F\n",
      " website : \n",
      "\thttp://www.dalton.com\n",
      "Delon Laboratories (1990) Inc.\n",
      "link :\n",
      "\thttps://www.ic.gc.ca//app/ccc/srch/nvgt.do;jsessionid=00013ZV-zVerqRp0ZqBftKfTYDW:8DAUEND69?lang=eng&prtl=1&sbPrtl=&estblmntNo=123456163448&profile=cmpltPrfl&profileId=201&app=sold&searchNav=F\n",
      " website : \n",
      "\thttp://www.labdelon.com\n",
      "Dextran Products Limited\n",
      "link :\n",
      "\thttps://www.ic.gc.ca//app/ccc/srch/nvgt.do;jsessionid=00013ZV-zVerqRp0ZqBftKfTYDW:8DAUEND69?lang=eng&prtl=1&sbPrtl=&estblmntNo=201956570000&profile=cmpltPrfl&profileId=201&app=sold&searchNav=F\n",
      " website : \n",
      "\thttp://www.dextran.ca\n",
      "Diagnostics Biochem Canada Inc.\n",
      "link :\n",
      "\thttps://www.ic.gc.ca//app/ccc/srch/nvgt.do;jsessionid=00013ZV-zVerqRp0ZqBftKfTYDW:8DAUEND69?lang=eng&prtl=1&sbPrtl=&estblmntNo=302322920000&profile=cmpltPrfl&profileId=201&app=sold&searchNav=F\n",
      " website : \n",
      "\thttp://www.dbc-labs.com\n",
      "Dominion Biologicals Limited\n",
      "link :\n",
      "\thttps://www.ic.gc.ca//app/ccc/srch/nvgt.do;jsessionid=00013ZV-zVerqRp0ZqBftKfTYDW:8DAUEND69?lang=eng&prtl=1&sbPrtl=&estblmntNo=157616530000&profile=cmpltPrfl&profileId=201&app=sold&searchNav=F\n",
      " website : \n",
      "\thttp://www.immucor.com\n",
      "Dominion Veterinary Laboratories Ltd.\n",
      "link :\n",
      "\thttps://www.ic.gc.ca//app/ccc/srch/nvgt.do;jsessionid=00013ZV-zVerqRp0ZqBftKfTYDW:8DAUEND69?lang=eng&prtl=1&sbPrtl=&estblmntNo=241775520000&profile=cmpltPrfl&profileId=201&app=sold&searchNav=F\n",
      " website : \n",
      "\thttp://www.domvet.com\n",
      "Duchesnay Canada\n",
      "link :\n",
      "\thttps://www.ic.gc.ca//app/ccc/srch/nvgt.do;jsessionid=00013ZV-zVerqRp0ZqBftKfTYDW:8DAUEND69?lang=eng&prtl=1&sbPrtl=&estblmntNo=234567136127&profile=cmpltPrfl&profileId=201&app=sold&searchNav=F\n",
      " website : \n",
      "\thttp://www.duchesnay.com\n",
      "D5Pharma, Inc.\n",
      "link :\n",
      "\thttps://www.ic.gc.ca//app/ccc/srch/nvgt.do;jsessionid=00013ZV-zVerqRp0ZqBftKfTYDW:8DAUEND69?lang=eng&prtl=1&sbPrtl=&estblmntNo=234567164108&profile=cmpltPrfl&profileId=201&app=sold&searchNav=F\n",
      " website : \n",
      "\thttp://www.d5pharma.com\n",
      "Emballages Stuart Packaging Inc.\n",
      "link :\n",
      "\thttps://www.ic.gc.ca//app/ccc/srch/nvgt.do;jsessionid=00013ZV-zVerqRp0ZqBftKfTYDW:8DAUEND69?lang=eng&prtl=1&sbPrtl=&estblmntNo=123456074610&profile=cmpltPrfl&profileId=201&app=sold&searchNav=F\n",
      " website : \n",
      "\thttp://www.stuart.ca\n",
      "Emergent Biosolutions\n",
      "link :\n",
      "\thttps://www.ic.gc.ca//app/ccc/srch/nvgt.do;jsessionid=00013ZV-zVerqRp0ZqBftKfTYDW:8DAUEND69?lang=eng&prtl=1&sbPrtl=&estblmntNo=900831300000&profile=cmpltPrfl&profileId=201&app=sold&searchNav=F\n",
      " website : \n",
      "\thttp://www.ebi.com\n",
      "Ethnopharm KM Laboratories\n",
      "link :\n",
      "\thttps://www.ic.gc.ca//app/ccc/srch/nvgt.do;jsessionid=00013ZV-zVerqRp0ZqBftKfTYDW:8DAUEND69?lang=eng&prtl=1&sbPrtl=&estblmntNo=234567168353&profile=cmpltPrfl&profileId=201&app=sold&searchNav=F\n",
      " website : \n",
      "\t\n",
      "Euro-Pharm International Canada Inc.\n",
      "link :\n",
      "\thttps://www.ic.gc.ca//app/ccc/srch/nvgt.do;jsessionid=00013ZV-zVerqRp0ZqBftKfTYDW:8DAUEND69?lang=eng&prtl=1&sbPrtl=&estblmntNo=234567088116&profile=cmpltPrfl&profileId=201&app=sold&searchNav=F\n",
      " website : \n",
      "\thttp://www.euro-pharm.com\n",
      "Feldan Inc\n",
      "link :\n",
      "\thttps://www.ic.gc.ca//app/ccc/srch/nvgt.do;jsessionid=00013ZV-zVerqRp0ZqBftKfTYDW:8DAUEND69?lang=eng&prtl=1&sbPrtl=&estblmntNo=234567133206&profile=cmpltPrfl&profileId=201&app=sold&searchNav=F\n",
      " website : \n",
      "\thttp://www.feldan.com\n",
      "Fiske's Horse Care Products Ltd\n",
      "link :\n",
      "\thttps://www.ic.gc.ca//app/ccc/srch/nvgt.do;jsessionid=00013ZV-zVerqRp0ZqBftKfTYDW:8DAUEND69?lang=eng&prtl=1&sbPrtl=&estblmntNo=234567152335&profile=cmpltPrfl&profileId=201&app=sold&searchNav=F\n",
      " website : \n",
      "\thttp://www.fiskes.ca\n",
      "Fresenius Kabi Canada Ltd\n",
      "link :\n",
      "\thttps://www.ic.gc.ca//app/ccc/srch/nvgt.do;jsessionid=00013ZV-zVerqRp0ZqBftKfTYDW:8DAUEND69?lang=eng&prtl=1&sbPrtl=&estblmntNo=234567037399&profile=cmpltPrfl&profileId=201&app=sold&searchNav=F\n",
      " website : \n",
      "\thttp://www.fresenius-kabi.ca\n",
      "Fusion Genomics Corporation\n",
      "link :\n",
      "\thttps://www.ic.gc.ca//app/ccc/srch/nvgt.do;jsessionid=00013ZV-zVerqRp0ZqBftKfTYDW:8DAUEND69?lang=eng&prtl=1&sbPrtl=&estblmntNo=234567158499&profile=cmpltPrfl&profileId=201&app=sold&searchNav=F\n",
      " website : \n",
      "\thttp://www.fusiongenomics.com\n",
      "Genacol\n",
      "link :\n",
      "\thttps://www.ic.gc.ca//app/ccc/srch/nvgt.do;jsessionid=00013ZV-zVerqRp0ZqBftKfTYDW:8DAUEND69?lang=eng&prtl=1&sbPrtl=&estblmntNo=234567063025&profile=cmpltPrfl&profileId=201&app=sold&searchNav=F\n",
      " website : \n",
      "\thttp://www.genacol.com\n",
      "Generex Biotechnology Corp.\n",
      "link :\n",
      "\thttps://www.ic.gc.ca//app/ccc/srch/nvgt.do;jsessionid=00013ZV-zVerqRp0ZqBftKfTYDW:8DAUEND69?lang=eng&prtl=1&sbPrtl=&estblmntNo=900051900000&profile=cmpltPrfl&profileId=201&app=sold&searchNav=F\n",
      " website : \n",
      "\thttp://www.generex.com\n",
      "Genvion Corporation\n",
      "link :\n",
      "\thttps://www.ic.gc.ca//app/ccc/srch/nvgt.do;jsessionid=00013ZV-zVerqRp0ZqBftKfTYDW:8DAUEND69?lang=eng&prtl=1&sbPrtl=&estblmntNo=234567138946&profile=cmpltPrfl&profileId=201&app=sold&searchNav=F\n",
      " website : \n",
      "\thttp://www.genvion.ca\n",
      "Germiphene Corporation\n",
      "link :\n",
      "\thttps://www.ic.gc.ca//app/ccc/srch/nvgt.do;jsessionid=00013ZV-zVerqRp0ZqBftKfTYDW:8DAUEND69?lang=eng&prtl=1&sbPrtl=&estblmntNo=900909860000&profile=cmpltPrfl&profileId=201&app=sold&searchNav=F\n",
      " website : \n",
      "\thttp://www.germiphene.com\n",
      "Glenwood Laboratories Canada Ltd.\n",
      "link :\n",
      "\thttps://www.ic.gc.ca//app/ccc/srch/nvgt.do;jsessionid=00013ZV-zVerqRp0ZqBftKfTYDW:8DAUEND69?lang=eng&prtl=1&sbPrtl=&estblmntNo=123456012319&profile=cmpltPrfl&profileId=201&app=sold&searchNav=F\n",
      " website : \n",
      "\thttp://www.glenwoodmed.com\n",
      "Gourmet Nutrition F.B. Inc\n",
      "link :\n",
      "\thttps://www.ic.gc.ca//app/ccc/srch/nvgt.do;jsessionid=00013ZV-zVerqRp0ZqBftKfTYDW:8DAUEND69?lang=eng&prtl=1&sbPrtl=&estblmntNo=123456221280&profile=cmpltPrfl&profileId=201&app=sold&searchNav=F\n",
      " website : \n",
      "\thttp://www.gourmetfb.com\n",
      "Gryd Inc.\n",
      "link :\n",
      "\thttps://www.ic.gc.ca//app/ccc/srch/nvgt.do;jsessionid=00013ZV-zVerqRp0ZqBftKfTYDW:8DAUEND69?lang=eng&prtl=1&sbPrtl=&estblmntNo=234567139611&profile=cmpltPrfl&profileId=201&app=sold&searchNav=F\n",
      " website : \n",
      "\thttp://www.krilex.com\n",
      "HALO Pharma\n",
      "link :\n",
      "\thttps://www.ic.gc.ca//app/ccc/srch/nvgt.do;jsessionid=00013ZV-zVerqRp0ZqBftKfTYDW:8DAUEND69?lang=eng&prtl=1&sbPrtl=&estblmntNo=901046880000&profile=cmpltPrfl&profileId=201&app=sold&searchNav=F\n",
      " website : \n",
      "\thttp://www.halopharma.com\n",
      "Hayat Pharma Canada\n",
      "link :\n",
      "\thttps://www.ic.gc.ca//app/ccc/srch/nvgt.do;jsessionid=00013ZV-zVerqRp0ZqBftKfTYDW:8DAUEND69?lang=eng&prtl=1&sbPrtl=&estblmntNo=234567163829&profile=cmpltPrfl&profileId=201&app=sold&searchNav=F\n",
      " website : \n",
      "\thttp://www.hayatpharma.ca\n",
      "Homeocan Inc.\n",
      "link :\n",
      "\thttps://www.ic.gc.ca//app/ccc/srch/nvgt.do;jsessionid=00013ZV-zVerqRp0ZqBftKfTYDW:8DAUEND69?lang=eng&prtl=1&sbPrtl=&estblmntNo=123456133197&profile=cmpltPrfl&profileId=201&app=sold&searchNav=F\n",
      " website : \n",
      "\thttp://www.homeocan.ca\n",
      "IBEX Pharmaceuticals Inc.\n",
      "link :\n",
      "\thttps://www.ic.gc.ca//app/ccc/srch/nvgt.do;jsessionid=00013ZV-zVerqRp0ZqBftKfTYDW:8DAUEND69?lang=eng&prtl=1&sbPrtl=&estblmntNo=123456014474&profile=cmpltPrfl&profileId=201&app=sold&searchNav=F\n",
      " website : \n",
      "\thttp://www.ibex.ca/\n",
      "I-MED Pharma Inc.\n",
      "link :\n",
      "\thttps://www.ic.gc.ca//app/ccc/srch/nvgt.do;jsessionid=00013ZV-zVerqRp0ZqBftKfTYDW:8DAUEND69?lang=eng&prtl=1&sbPrtl=&estblmntNo=234567001051&profile=cmpltPrfl&profileId=201&app=sold&searchNav=F\n",
      " website : \n",
      "\thttp://www.imedpharma.com\n",
      "IMMANENCE INTEGRAL DERMO CORRECTION, INC.\n",
      "link :\n",
      "\thttps://www.ic.gc.ca//app/ccc/srch/nvgt.do;jsessionid=00013ZV-zVerqRp0ZqBftKfTYDW:8DAUEND69?lang=eng&prtl=1&sbPrtl=&estblmntNo=234567066181&profile=cmpltPrfl&profileId=201&app=sold&searchNav=F\n",
      " website : \n",
      "\thttp://www.idcdermo.com\n",
      "Immunovaccine Inc.\n",
      "link :\n",
      "\thttps://www.ic.gc.ca//app/ccc/srch/nvgt.do;jsessionid=00013ZV-zVerqRp0ZqBftKfTYDW:8DAUEND69?lang=eng&prtl=1&sbPrtl=&estblmntNo=234567043622&profile=cmpltPrfl&profileId=201&app=sold&searchNav=F\n",
      " website : \n",
      "\thttp://www.imvaccine.com\n",
      "Innovatek Medical Inc.\n",
      "link :\n",
      "\thttps://www.ic.gc.ca//app/ccc/srch/nvgt.do;jsessionid=00013ZV-zVerqRp0ZqBftKfTYDW:8DAUEND69?lang=eng&prtl=1&sbPrtl=&estblmntNo=123456139485&profile=cmpltPrfl&profileId=201&app=sold&searchNav=F\n",
      " website : \n",
      "\thttp://www.innovatekmed.com\n",
      "Institut Rosell-Lallemand Inc.\n",
      "link :\n",
      "\thttps://www.ic.gc.ca//app/ccc/srch/nvgt.do;jsessionid=00013ZV-zVerqRp0ZqBftKfTYDW:8DAUEND69?lang=eng&prtl=1&sbPrtl=&estblmntNo=234567002347&profile=cmpltPrfl&profileId=201&app=sold&searchNav=F\n",
      " website : \n",
      "\thttp://www.lallemand.com\n",
      "IntelliPharmaCeutics Corp.\n",
      "link :\n",
      "\thttps://www.ic.gc.ca//app/ccc/srch/nvgt.do;jsessionid=00013ZV-zVerqRp0ZqBftKfTYDW:8DAUEND69?lang=eng&prtl=1&sbPrtl=&estblmntNo=123456269739&profile=cmpltPrfl&profileId=201&app=sold&searchNav=F\n",
      " website : \n",
      "\thttp://www.intellipharmaceutics.com\n",
      "International Cosmeticare Inc.\n",
      "link :\n",
      "\thttps://www.ic.gc.ca//app/ccc/srch/nvgt.do;jsessionid=00013ZV-zVerqRp0ZqBftKfTYDW:8DAUEND69?lang=eng&prtl=1&sbPrtl=&estblmntNo=123456129653&profile=cmpltPrfl&profileId=201&app=sold&searchNav=F\n",
      " website : \n",
      "\thttp://www.herbalglo.com\n",
      "Jamieson Laboratories Ltd.\n",
      "link :\n",
      "\thttps://www.ic.gc.ca//app/ccc/srch/nvgt.do;jsessionid=00013ZV-zVerqRp0ZqBftKfTYDW:8DAUEND69?lang=eng&prtl=1&sbPrtl=&estblmntNo=103400730000&profile=cmpltPrfl&profileId=201&app=sold&searchNav=F\n",
      " website : \n",
      "\thttp://www.jamiesonlabs.com\n",
      "Janssen Inc.\n",
      "link :\n",
      "\thttps://www.ic.gc.ca//app/ccc/srch/nvgt.do;jsessionid=00013ZV-zVerqRp0ZqBftKfTYDW:8DAUEND69?lang=eng&prtl=1&sbPrtl=&estblmntNo=105153020000&profile=cmpltPrfl&profileId=201&app=sold&searchNav=F\n",
      " website : \n",
      "\thttp://www.janssen.com/canada/\n",
      "Jubilant\n",
      "link :\n",
      "\thttps://www.ic.gc.ca//app/ccc/srch/nvgt.do;jsessionid=00013ZV-zVerqRp0ZqBftKfTYDW:8DAUEND69?lang=eng&prtl=1&sbPrtl=&estblmntNo=123456215193&profile=cmpltPrfl&profileId=201&app=sold&searchNav=F\n",
      " website : \n",
      "\thttp://www.jubl.com\n",
      "Laboratoire Riva inc. Laboratoires Trianon inc. Avir Pharma inc.\n",
      "link :\n",
      "\thttps://www.ic.gc.ca//app/ccc/srch/nvgt.do;jsessionid=00013ZV-zVerqRp0ZqBftKfTYDW:8DAUEND69?lang=eng&prtl=1&sbPrtl=&estblmntNo=123456161401&profile=cmpltPrfl&profileId=201&app=sold&searchNav=F\n",
      " website : \n",
      "\thttp://www.labriva.com\n",
      "Laboratoires Confab Inc.\n",
      "link :\n",
      "\thttps://www.ic.gc.ca//app/ccc/srch/nvgt.do;jsessionid=00013ZV-zVerqRp0ZqBftKfTYDW:8DAUEND69?lang=eng&prtl=1&sbPrtl=&estblmntNo=900937820000&profile=cmpltPrfl&profileId=201&app=sold&searchNav=F\n",
      " website : \n",
      "\thttp://www.confab.ca/\n"
     ]
    },
    {
     "ename": "UnicodeDecodeError",
     "evalue": "'ascii' codec can't decode byte 0xc3 in position 1: ordinal not in range(128)",
     "output_type": "error",
     "traceback": [
      "\u001b[0;31m---------------------------------------------------------------------------\u001b[0m",
      "\u001b[0;31mUnicodeDecodeError\u001b[0m                        Traceback (most recent call last)",
      "\u001b[0;32m<ipython-input-112-fe8e5383f33c>\u001b[0m in \u001b[0;36m<module>\u001b[0;34m()\u001b[0m\n\u001b[1;32m      1\u001b[0m \u001b[0;32mfor\u001b[0m \u001b[0mi\u001b[0m \u001b[0;32min\u001b[0m \u001b[0mrange\u001b[0m\u001b[0;34m(\u001b[0m\u001b[0;36m0\u001b[0m\u001b[0;34m,\u001b[0m\u001b[0mlen\u001b[0m\u001b[0;34m(\u001b[0m\u001b[0mc\u001b[0m\u001b[0;34m)\u001b[0m\u001b[0;34m)\u001b[0m\u001b[0;34m:\u001b[0m\u001b[0;34m\u001b[0m\u001b[0m\n\u001b[0;32m----> 2\u001b[0;31m      \u001b[0;32mprint\u001b[0m \u001b[0ma\u001b[0m\u001b[0;34m[\u001b[0m\u001b[0mi\u001b[0m\u001b[0;34m]\u001b[0m \u001b[0;34m+\u001b[0m \u001b[0;34m\"\\nlink :\\n\\t\"\u001b[0m\u001b[0;34m+\u001b[0m \u001b[0mb\u001b[0m\u001b[0;34m[\u001b[0m\u001b[0mi\u001b[0m\u001b[0;34m]\u001b[0m\u001b[0;34m+\u001b[0m\u001b[0;34m\"\\n website : \\n\\t\"\u001b[0m \u001b[0;34m+\u001b[0m \u001b[0mc\u001b[0m\u001b[0;34m[\u001b[0m\u001b[0mi\u001b[0m\u001b[0;34m]\u001b[0m\u001b[0;34m\u001b[0m\u001b[0m\n\u001b[0m",
      "\u001b[0;31mUnicodeDecodeError\u001b[0m: 'ascii' codec can't decode byte 0xc3 in position 1: ordinal not in range(128)"
     ]
    }
   ],
   "source": [
    "for i in range(0,len(c)):\n",
    "     print a[i] + \"\\nlink :\\n\\t\"+ b[i]+\"\\n website : \\n\\t\" + c[i]"
   ]
  },
  {
   "cell_type": "code",
   "execution_count": 164,
   "metadata": {},
   "outputs": [
    {
     "ename": "TypeError",
     "evalue": "unhashable type",
     "output_type": "error",
     "traceback": [
      "\u001b[0;31m---------------------------------------------------------------------------\u001b[0m",
      "\u001b[0;31mTypeError\u001b[0m                                 Traceback (most recent call last)",
      "\u001b[0;32m<ipython-input-164-75ec3d0c0f0d>\u001b[0m in \u001b[0;36m<module>\u001b[0;34m()\u001b[0m\n\u001b[1;32m      2\u001b[0m \u001b[0;31m#list_of_lists\u001b[0m\u001b[0;34m\u001b[0m\u001b[0;34m\u001b[0m\u001b[0m\n\u001b[1;32m      3\u001b[0m \u001b[0mdict_1\u001b[0m \u001b[0;34m=\u001b[0m \u001b[0;34m{\u001b[0m\u001b[0mz\u001b[0m\u001b[0;34m[\u001b[0m\u001b[0;36m0\u001b[0m\u001b[0;34m]\u001b[0m\u001b[0;34m:\u001b[0m\u001b[0mlist\u001b[0m\u001b[0;34m(\u001b[0m\u001b[0mz\u001b[0m\u001b[0;34m[\u001b[0m\u001b[0;36m1\u001b[0m\u001b[0;34m:\u001b[0m\u001b[0;34m]\u001b[0m\u001b[0;34m)\u001b[0m \u001b[0;32mfor\u001b[0m \u001b[0mz\u001b[0m \u001b[0;32min\u001b[0m \u001b[0mzip\u001b[0m\u001b[0;34m(\u001b[0m\u001b[0;34m*\u001b[0m\u001b[0mlist_of_lists\u001b[0m\u001b[0;34m)\u001b[0m\u001b[0;34m}\u001b[0m\u001b[0;34m\u001b[0m\u001b[0m\n\u001b[0;32m----> 4\u001b[0;31m \u001b[0mdict_1\u001b[0m\u001b[0;34m[\u001b[0m\u001b[0;36m0\u001b[0m\u001b[0;34m:\u001b[0m\u001b[0;36m5\u001b[0m\u001b[0;34m]\u001b[0m\u001b[0;34m\u001b[0m\u001b[0m\n\u001b[0m",
      "\u001b[0;31mTypeError\u001b[0m: unhashable type"
     ]
    }
   ],
   "source": [
    "list_of_lists = [a,b,c]\n",
    "#list_of_lists\n",
    "dict_1 = {z[0]:list(z[1:]) for z in zip(*list_of_lists)}\n",
    "dict_1[0:5]"
   ]
  },
  {
   "cell_type": "code",
   "execution_count": 156,
   "metadata": {},
   "outputs": [
    {
     "data": {
      "text/html": [
       "<div>\n",
       "<style>\n",
       "    .dataframe thead tr:only-child th {\n",
       "        text-align: right;\n",
       "    }\n",
       "\n",
       "    .dataframe thead th {\n",
       "        text-align: left;\n",
       "    }\n",
       "\n",
       "    .dataframe tbody tr th {\n",
       "        vertical-align: top;\n",
       "    }\n",
       "</style>\n",
       "<table border=\"1\" class=\"dataframe\">\n",
       "  <thead>\n",
       "    <tr style=\"text-align: right;\">\n",
       "      <th></th>\n",
       "      <th>Link</th>\n",
       "      <th>Web</th>\n",
       "    </tr>\n",
       "    <tr>\n",
       "      <th>Name</th>\n",
       "      <th></th>\n",
       "      <th></th>\n",
       "    </tr>\n",
       "  </thead>\n",
       "  <tbody>\n",
       "    <tr>\n",
       "      <th>ACIC</th>\n",
       "      <td>https://www.ic.gc.ca//app/ccc/srch/nvgt.do;jse...</td>\n",
       "      <td>http://www.acic.com</td>\n",
       "    </tr>\n",
       "    <tr>\n",
       "      <th>Abbott Laboratories Ltd.</th>\n",
       "      <td>https://www.ic.gc.ca//app/ccc/srch/nvgt.do;jse...</td>\n",
       "      <td>http://www.abbott.ca/</td>\n",
       "    </tr>\n",
       "    <tr>\n",
       "      <th>Accucaps Industries Limited</th>\n",
       "      <td>https://www.ic.gc.ca//app/ccc/srch/nvgt.do;jse...</td>\n",
       "      <td>http://www.accucaps.com</td>\n",
       "    </tr>\n",
       "    <tr>\n",
       "      <th>Actavis Pharma Company</th>\n",
       "      <td>https://www.ic.gc.ca//app/ccc/srch/nvgt.do;jse...</td>\n",
       "      <td>http://www.actavis.com</td>\n",
       "    </tr>\n",
       "    <tr>\n",
       "      <th>Advanced Labs Canada</th>\n",
       "      <td>https://www.ic.gc.ca//app/ccc/srch/nvgt.do;jse...</td>\n",
       "      <td>http://www.rebootvision.com</td>\n",
       "    </tr>\n",
       "  </tbody>\n",
       "</table>\n",
       "</div>"
      ],
      "text/plain": [
       "                                                                          Link  \\\n",
       "Name                                                                             \n",
       "ACIC                         https://www.ic.gc.ca//app/ccc/srch/nvgt.do;jse...   \n",
       "Abbott Laboratories Ltd.     https://www.ic.gc.ca//app/ccc/srch/nvgt.do;jse...   \n",
       "Accucaps Industries Limited  https://www.ic.gc.ca//app/ccc/srch/nvgt.do;jse...   \n",
       "Actavis Pharma Company       https://www.ic.gc.ca//app/ccc/srch/nvgt.do;jse...   \n",
       "Advanced Labs Canada         https://www.ic.gc.ca//app/ccc/srch/nvgt.do;jse...   \n",
       "\n",
       "                                                     Web  \n",
       "Name                                                      \n",
       "ACIC                                 http://www.acic.com  \n",
       "Abbott Laboratories Ltd.           http://www.abbott.ca/  \n",
       "Accucaps Industries Limited      http://www.accucaps.com  \n",
       "Actavis Pharma Company            http://www.actavis.com  \n",
       "Advanced Labs Canada         http://www.rebootvision.com  "
      ]
     },
     "execution_count": 156,
     "metadata": {},
     "output_type": "execute_result"
    }
   ],
   "source": [
    "df = pd.DataFrame(dict_1).T\n",
    "df.index.names = ['Name']\n",
    "df.columns = ['Link','Web']\n",
    "df.to_csv('canada_data.csv')\n",
    "df.head()"
   ]
  },
  {
   "cell_type": "code",
   "execution_count": null,
   "metadata": {
    "collapsed": true
   },
   "outputs": [],
   "source": [
    "# with open('test.csv', 'wb') as file:\n",
    "#     FIELDNAMES = 'name web link'.split()\n",
    "#     writer = csv.DictWriter(file, delimiter='\\t', fieldnames=FIELDNAMES)\n",
    "#     writer.writeheader()\n",
    "#     for key, value in dict_1.items():\n",
    "#         writer.writerow([key, value])\n",
    "#     #writer.writerows(dict(zip(FIELDNAMES, row))\n",
    "#                          #for row in zip(*(dict_1[key] for key in FIELDNAMES)))"
   ]
  },
  {
   "cell_type": "code",
   "execution_count": null,
   "metadata": {
    "collapsed": true
   },
   "outputs": [],
   "source": [
    "# field_names = [\"Name\",'link','website']\n",
    "# with open(\"output.csv\", \"w\") as f:\n",
    "#     writer = csv.DictWriter(f,field_names,extrasaction='ignore', dialect='excel')\n",
    "#     #data = {key: value for key, value in dict_1.items()}\n",
    "#     #writer.writerow(data)\n",
    "#     writer.writerow({x: x for x in field_names})\n",
    "#     for value in dict_1.items():\n",
    "#         writer.writerow(value)"
   ]
  },
  {
   "cell_type": "code",
   "execution_count": null,
   "metadata": {
    "collapsed": true
   },
   "outputs": [],
   "source": [
    "# write to json\n",
    "# import json\n",
    "# with open(\"canada.json\", \"w\") as writeJSON:\n",
    "#     json.dump(dict_1, writeJSON)"
   ]
  },
  {
   "cell_type": "code",
   "execution_count": null,
   "metadata": {
    "collapsed": true
   },
   "outputs": [],
   "source": [
    "# count = 0\n",
    "# for i in range(0,len(exp)):\n",
    "#     print li.a.get_text()\n",
    "#     print \"https://www.ic.gc.ca/\"+li.a.get('href')\n",
    "#     count = count+1\n",
    "#     if count < (len(b)-1):\n",
    "#         print li.find_all('a')[1]['href']\n",
    "#     else:\n",
    "#         pass\n",
    "\n",
    "\n",
    "# for i in range(0,5): #len(exp)\n",
    "#     temp = exp[i].find_all('a')[0]['href']\n",
    "#     print(temp)\n",
    "#     temp1 = \n",
    "#     hari.append(temp)\n",
    "# len(hari) "
   ]
  },
  {
   "cell_type": "code",
   "execution_count": null,
   "metadata": {
    "collapsed": true
   },
   "outputs": [],
   "source": []
  }
 ],
 "metadata": {
  "kernelspec": {
   "display_name": "Python 2",
   "language": "python",
   "name": "python2"
  },
  "language_info": {
   "codemirror_mode": {
    "name": "ipython",
    "version": 2
   },
   "file_extension": ".py",
   "mimetype": "text/x-python",
   "name": "python",
   "nbconvert_exporter": "python",
   "pygments_lexer": "ipython2",
   "version": "2.7.14"
  }
 },
 "nbformat": 4,
 "nbformat_minor": 2
}
