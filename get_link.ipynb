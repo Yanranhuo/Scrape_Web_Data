{
 "cells": [
  {
   "cell_type": "code",
   "execution_count": 1,
   "metadata": {
    "collapsed": true
   },
   "outputs": [],
   "source": [
    "from bs4 import BeautifulSoup\n",
    "import urllib2\n",
    "import pandas as pd\n",
    "import csv"
   ]
  },
  {
   "cell_type": "code",
   "execution_count": 2,
   "metadata": {
    "collapsed": true
   },
   "outputs": [],
   "source": [
    "html = urllib2.urlopen('https://openei.org/apps/USURDB/?page=1')\n",
    "soup = BeautifulSoup(html,'html.parser')"
   ]
  },
  {
   "cell_type": "code",
   "execution_count": 3,
   "metadata": {},
   "outputs": [
    {
     "data": {
      "text/plain": [
       "bs4.BeautifulSoup"
      ]
     },
     "execution_count": 3,
     "metadata": {},
     "output_type": "execute_result"
    }
   ],
   "source": [
    "type(soup)"
   ]
  },
  {
   "cell_type": "code",
   "execution_count": 4,
   "metadata": {},
   "outputs": [
    {
     "name": "stdout",
     "output_type": "stream",
     "text": [
      "<!DOCTYPE html>\n",
      "<html>\n",
      " <head>\n",
      "  <title>\n",
      "   U.S. Utility Rate Database\n",
      "  </title>\n",
      "  <meta content=\"text/html; charset=utf-8\" http-equiv=\"Content-Type\"/>\n",
      "  <meta content=\"text/css\" http-equiv=\"Content-Style-Type\"/>\n",
      "  <meta content=\"USURDB, URDB, Utility Rate Database, app, webapp\" name=\"Keywords\"/>\n",
      "  <meta content=\"Database of U.S. Utility rates developed by the National Renewable Energy Laboratory, powered by OpenEI: Open Energy Information.\" name=\"Description\"/>\n",
      "  <!-- Favicon -->\n",
      "  <link href=\"/apps/USURDB/favicon.ico\" rel=\"shortcut icon\" type=\"image/x-icon\"/>\n",
      "  <!-- iOS icons >\n",
      "    <link rel=\"apple-touch-icon\" href=\"assets/img/touch-icon-iphone.png\">\n",
      "    <link rel=\"apple-touch-icon\" sizes=\"72x72\"   href=\"assets/img/touch-icon-72.png\">\n",
      "    <link rel=\"apple-touch-icon\" sizes=\"114x114\" href=\"assets/img/touch-icon-114.png\">\n",
      "    <link rel=\"apple-touch-icon\" sizes=\"144x144\" href=\"assets/img/touch-icon-144.png\"-->\n",
      "  <!-- Common CSS -->\n",
      "  <link href=\"https://auth.openei.org/cas/assets/css/c\n"
     ]
    }
   ],
   "source": [
    "print soup.prettify()[0:1000]"
   ]
  },
  {
   "cell_type": "code",
   "execution_count": 5,
   "metadata": {},
   "outputs": [],
   "source": [
    "def get_links(url):\n",
    "    html = urllib2.urlopen(url)\n",
    "    soup = BeautifulSoup(html,'html.parser')\n",
    "    dict_1 = {}\n",
    "    list_1 = []\n",
    "    for i in soup.find_all('tr'):\n",
    "        cols = i.find_all('td')\n",
    "        names = cols[0].get_text().encode('utf-8')\n",
    "        urls = 'https://openei.org'+cols[1].find('a').get('href').encode('utf-8')\n",
    "        webs = 'https://openei.org'+cols[0].find('a').get('href').encode('utf-8')\n",
    "        dict_1 = {'Name':names,'Url':urls,'Web':webs}\n",
    "        list_1.append(dict_1)\n",
    "    return list_1"
   ]
  },
  {
   "cell_type": "code",
   "execution_count": 6,
   "metadata": {
    "scrolled": false
   },
   "outputs": [
    {
     "name": "stdout",
     "output_type": "stream",
     "text": [
      "CPU times: user 3 µs, sys: 1 µs, total: 4 µs\n",
      "Wall time: 7.87 µs\n"
     ]
    },
    {
     "data": {
      "text/plain": [
       "10"
      ]
     },
     "execution_count": 6,
     "metadata": {},
     "output_type": "execute_result"
    }
   ],
   "source": [
    "%time\n",
    "import time\n",
    "list_1=[]\n",
    "for i in range(0,10):\n",
    "    s = \"page=[\" + str(i) + \"]\"\n",
    "    url = str(\"https://openei.org/apps/USURDB/?page=\"+ str(i))  # read page from 0 to 9\n",
    "    temp = get_links(url)\n",
    "    time.sleep(.25)\n",
    "    list_1.append(temp)\n",
    "len(list_1)"
   ]
  },
  {
   "cell_type": "code",
   "execution_count": 7,
   "metadata": {
    "scrolled": true
   },
   "outputs": [
    {
     "data": {
      "text/plain": [
       "[{'Name': 'PacifiCorp (Utah)',\n",
       "  'Url': 'https://openei.org/apps/USURDB/rate/view/5a6baea95457a3b15be4a647',\n",
       "  'Web': 'https://openei.org/wiki/PacifiCorp (Utah)'},\n",
       " {'Name': 'PacifiCorp (Utah)',\n",
       "  'Url': 'https://openei.org/apps/USURDB/rate/view/58a77ca25457a3293771d20a',\n",
       "  'Web': 'https://openei.org/wiki/PacifiCorp (Utah)'},\n",
       " {'Name': 'PacifiCorp (Utah)',\n",
       "  'Url': 'https://openei.org/apps/USURDB/rate/view/5a6bae435457a3317ae4a644',\n",
       "  'Web': 'https://openei.org/wiki/PacifiCorp (Utah)'},\n",
       " {'Name': 'PacifiCorp (Utah)',\n",
       "  'Url': 'https://openei.org/apps/USURDB/rate/view/58a77b0e5457a3ec4471d209',\n",
       "  'Web': 'https://openei.org/wiki/PacifiCorp (Utah)'},\n",
       " {'Name': 'PacifiCorp (Utah)',\n",
       "  'Url': 'https://openei.org/apps/USURDB/rate/view/5a6bad4b5457a38e75e4a646',\n",
       "  'Web': 'https://openei.org/wiki/PacifiCorp (Utah)'},\n",
       " {'Name': 'PacifiCorp (Utah)',\n",
       "  'Url': 'https://openei.org/apps/USURDB/rate/view/58a779295457a3eb4471d209',\n",
       "  'Web': 'https://openei.org/wiki/PacifiCorp (Utah)'},\n",
       " {'Name': 'PacifiCorp (Utah)',\n",
       "  'Url': 'https://openei.org/apps/USURDB/rate/view/5a6bacd15457a3b15be4a646',\n",
       "  'Web': 'https://openei.org/wiki/PacifiCorp (Utah)'},\n",
       " {'Name': 'PacifiCorp (Utah)',\n",
       "  'Url': 'https://openei.org/apps/USURDB/rate/view/58a777e85457a3223071d209',\n",
       "  'Web': 'https://openei.org/wiki/PacifiCorp (Utah)'},\n",
       " {'Name': 'PacifiCorp (Utah)',\n",
       "  'Url': 'https://openei.org/apps/USURDB/rate/view/5a6babcd5457a38e75e4a645',\n",
       "  'Web': 'https://openei.org/wiki/PacifiCorp (Utah)'},\n",
       " {'Name': 'PacifiCorp (Utah)',\n",
       "  'Url': 'https://openei.org/apps/USURDB/rate/view/58a7764e5457a3164071d209',\n",
       "  'Web': 'https://openei.org/wiki/PacifiCorp (Utah)'},\n",
       " {'Name': 'PacifiCorp (Utah)',\n",
       "  'Url': 'https://openei.org/apps/USURDB/rate/view/5a6baafd5457a33b75e4a647',\n",
       "  'Web': 'https://openei.org/wiki/PacifiCorp (Utah)'},\n",
       " {'Name': 'PacifiCorp (Utah)',\n",
       "  'Url': 'https://openei.org/apps/USURDB/rate/view/58a773d45457a33f0f71d209',\n",
       "  'Web': 'https://openei.org/wiki/PacifiCorp (Utah)'},\n",
       " {'Name': 'PacifiCorp (Utah)',\n",
       "  'Url': 'https://openei.org/apps/USURDB/rate/view/5a6baa1f5457a3ab02e4a646',\n",
       "  'Web': 'https://openei.org/wiki/PacifiCorp (Utah)'},\n",
       " {'Name': 'PacifiCorp (Utah)',\n",
       "  'Url': 'https://openei.org/apps/USURDB/rate/view/58a76e4c5457a39a3971d209',\n",
       "  'Web': 'https://openei.org/wiki/PacifiCorp (Utah)'},\n",
       " {'Name': 'PacifiCorp (Utah)',\n",
       "  'Url': 'https://openei.org/apps/USURDB/rate/view/5a6ba9505457a3ab02e4a645',\n",
       "  'Web': 'https://openei.org/wiki/PacifiCorp (Utah)'},\n",
       " {'Name': 'PacifiCorp (Utah)',\n",
       "  'Url': 'https://openei.org/apps/USURDB/rate/view/58a76d725457a3293771d209',\n",
       "  'Web': 'https://openei.org/wiki/PacifiCorp (Utah)'},\n",
       " {'Name': 'PacifiCorp (Utah)',\n",
       "  'Url': 'https://openei.org/apps/USURDB/rate/view/5a6ba8275457a31a73e4a645',\n",
       "  'Web': 'https://openei.org/wiki/PacifiCorp (Utah)'},\n",
       " {'Name': 'PacifiCorp (Utah)',\n",
       "  'Url': 'https://openei.org/apps/USURDB/rate/view/58a769965457a3ed6d71d20b',\n",
       "  'Web': 'https://openei.org/wiki/PacifiCorp (Utah)'},\n",
       " {'Name': 'PacifiCorp (Utah)',\n",
       "  'Url': 'https://openei.org/apps/USURDB/rate/view/5a6ba71c5457a3c650e4a646',\n",
       "  'Web': 'https://openei.org/wiki/PacifiCorp (Utah)'},\n",
       " {'Name': 'PacifiCorp (Utah)',\n",
       "  'Url': 'https://openei.org/apps/USURDB/rate/view/5a6ba6f65457a3c650e4a645',\n",
       "  'Web': 'https://openei.org/wiki/PacifiCorp (Utah)'}]"
      ]
     },
     "execution_count": 7,
     "metadata": {},
     "output_type": "execute_result"
    }
   ],
   "source": [
    "list_1[0]"
   ]
  },
  {
   "cell_type": "code",
   "execution_count": 8,
   "metadata": {},
   "outputs": [],
   "source": [
    "list_2=[]\n",
    "for sublist in list_1:\n",
    "    for item in sublist:\n",
    "        list_2.append(item)\n",
    "df = pd.DataFrame(list_2)\n",
    "df = pd.DataFrame(df, columns=['Name','Url','Web'])\n",
    "df.head()\n",
    "df.to_csv('get_links.csv')"
   ]
  }
 ],
 "metadata": {
  "kernelspec": {
   "display_name": "Python 2",
   "language": "python",
   "name": "python2"
  },
  "language_info": {
   "codemirror_mode": {
    "name": "ipython",
    "version": 2
   },
   "file_extension": ".py",
   "mimetype": "text/x-python",
   "name": "python",
   "nbconvert_exporter": "python",
   "pygments_lexer": "ipython2",
   "version": "2.7.14"
  }
 },
 "nbformat": 4,
 "nbformat_minor": 2
}
